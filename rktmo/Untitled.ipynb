{
 "cells": [
  {
   "cell_type": "markdown",
   "id": "eb5fcea4",
   "metadata": {},
   "source": [
    "<h2 align=\"center\">РК№1 ТМО</h2>"
   ]
  },
  {
   "cell_type": "markdown",
   "id": "c9fb52c0",
   "metadata": {},
   "source": [
    "Зудин А.М.<br>\n",
    "ИУ5-63Б<br>\n",
    "Вариант№10<br>\n",
    "Задание:<br>\n",
    "Для заданного набора данных проведите обработку пропусков в данных для одного категориального и одного количественного признака. Какие способы обработки пропусков в данных для категориальных и количественных признаков Вы использовали? Какие признаки Вы будете использовать для дальнейшего построения моделей машинного обучения и почему?"
   ]
  },
  {
   "cell_type": "code",
   "execution_count": 14,
   "id": "c5e85da0",
   "metadata": {},
   "outputs": [],
   "source": [
    "import pandas as pd\n",
    "import numpy as np\n",
    "import matplotlib.pyplot as plt"
   ]
  },
  {
   "cell_type": "code",
   "execution_count": 7,
   "id": "00f33457",
   "metadata": {
    "scrolled": true
   },
   "outputs": [],
   "source": [
    "#Загрузим выданный нам датасет\n",
    "data = pd.read_csv(\"./dc-wikia-data.csv\", sep=\",\")"
   ]
  },
  {
   "cell_type": "markdown",
   "id": "01beff26",
   "metadata": {},
   "source": [
    "Посмотрим тип наших данных"
   ]
  },
  {
   "cell_type": "code",
   "execution_count": 8,
   "id": "f52ab217",
   "metadata": {},
   "outputs": [
    {
     "data": {
      "text/plain": [
       "page_id               int64\n",
       "name                 object\n",
       "urlslug              object\n",
       "ID                   object\n",
       "ALIGN                object\n",
       "EYE                  object\n",
       "HAIR                 object\n",
       "SEX                  object\n",
       "GSM                  object\n",
       "ALIVE                object\n",
       "APPEARANCES         float64\n",
       "FIRST APPEARANCE     object\n",
       "YEAR                float64\n",
       "dtype: object"
      ]
     },
     "execution_count": 8,
     "metadata": {},
     "output_type": "execute_result"
    }
   ],
   "source": [
    "data.dtypes"
   ]
  },
  {
   "cell_type": "markdown",
   "id": "17af4af3",
   "metadata": {},
   "source": [
    "Теперь посмотрим в каких атрибутах у нас есть пропуски и сколько их"
   ]
  },
  {
   "cell_type": "code",
   "execution_count": 9,
   "id": "44516cdc",
   "metadata": {},
   "outputs": [
    {
     "data": {
      "text/plain": [
       "page_id                0\n",
       "name                   0\n",
       "urlslug                0\n",
       "ID                  2013\n",
       "ALIGN                601\n",
       "EYE                 3628\n",
       "HAIR                2274\n",
       "SEX                  125\n",
       "GSM                 6832\n",
       "ALIVE                  3\n",
       "APPEARANCES          355\n",
       "FIRST APPEARANCE      69\n",
       "YEAR                  69\n",
       "dtype: int64"
      ]
     },
     "execution_count": 9,
     "metadata": {},
     "output_type": "execute_result"
    }
   ],
   "source": [
    "data.isnull().sum()"
   ]
  },
  {
   "cell_type": "code",
   "execution_count": 25,
   "id": "96061b5a",
   "metadata": {},
   "outputs": [
    {
     "name": "stdout",
     "output_type": "stream",
     "text": [
      "Колонка ID. Тип данных object. Количество пустых значений 2013, 29.19%.\n",
      "Колонка ALIGN. Тип данных object. Количество пустых значений 601, 8.72%.\n",
      "Колонка EYE. Тип данных object. Количество пустых значений 3628, 52.61%.\n",
      "Колонка HAIR. Тип данных object. Количество пустых значений 2274, 32.98%.\n",
      "Колонка SEX. Тип данных object. Количество пустых значений 125, 1.81%.\n",
      "Колонка GSM. Тип данных object. Количество пустых значений 6832, 99.07%.\n",
      "Колонка ALIVE. Тип данных object. Количество пустых значений 3, 0.04%.\n",
      "Колонка FIRST APPEARANCE. Тип данных object. Количество пустых значений 69, 1.0%.\n"
     ]
    }
   ],
   "source": [
    "cat_cols = []\n",
    "for col in data.columns:\n",
    "    # Количество пустых значений \n",
    "    temp_null_count = data[data[col].isnull()].shape[0]\n",
    "    dt = str(data[col].dtype)\n",
    "    if temp_null_count>0 and (dt=='object'):\n",
    "        cat_cols.append(col)\n",
    "        temp_perc = round((temp_null_count / data.shape[0]) * 100.0, 2)\n",
    "        print('Колонка {}. Тип данных {}. Количество пустых значений {}, {}%.'.format(col, dt, temp_null_count, temp_perc))"
   ]
  },
  {
   "cell_type": "markdown",
   "id": "727537a4",
   "metadata": {},
   "source": [
    "Возьмем количественный признак year и обработаем его пропуски, обрабатывать будем<br> с помощью модуля sklearn.<br>\n",
    "подключим его:"
   ]
  },
  {
   "cell_type": "code",
   "execution_count": 20,
   "id": "3053a742",
   "metadata": {},
   "outputs": [],
   "source": [
    "from sklearn.impute import SimpleImputer"
   ]
  },
  {
   "cell_type": "markdown",
   "id": "3c3f0130",
   "metadata": {},
   "source": [
    "Но сначала нам следует изучить выбранный количественный признак"
   ]
  },
  {
   "cell_type": "code",
   "execution_count": 15,
   "id": "05c5e3f1",
   "metadata": {},
   "outputs": [
    {
     "data": {
      "image/png": "[encoded data removed]",
      "text/plain": [
       "<Figure size 432x288 with 1 Axes>"
      ]
     },
     "metadata": {
      "needs_background": "light"
     },
     "output_type": "display_data"
    }
   ],
   "source": [
    "plt.hist(data['YEAR'], 50)\n",
    "plt.xlabel('YEAR')\n",
    "plt.show()"
   ]
  },
  {
   "cell_type": "markdown",
   "id": "b9fdd8c2",
   "metadata": {},
   "source": [
    "Распределение не одномодальное поэтому будем заполнять пропуски данных по среднему значению"
   ]
  },
  {
   "cell_type": "code",
   "execution_count": 23,
   "id": "9890e90f",
   "metadata": {},
   "outputs": [
    {
     "data": {
      "image/png": "[encoded data removed]",
      "text/plain": [
       "<Figure size 432x288 with 1 Axes>"
      ]
     },
     "metadata": {
      "needs_background": "light"
     },
     "output_type": "display_data"
    }
   ],
   "source": [
    "med_imp = SimpleImputer(strategy=\"mean\")\n",
    "med_rat = med_imp.fit_transform(data[['YEAR']])\n",
    "plt.hist(med_rat, 50)\n",
    "plt.xlabel('YEAR')\n",
    "plt.show()"
   ]
  },
  {
   "cell_type": "markdown",
   "id": "d02c3a98",
   "metadata": {},
   "source": [
    "Таким образом мы заполнили данные при этом не изменив статистику<br>\n",
    "Теперь обработаем количесвенный признак Alive"
   ]
  },
  {
   "cell_type": "code",
   "execution_count": 27,
   "id": "2b463de8",
   "metadata": {},
   "outputs": [
    {
     "name": "stdout",
     "output_type": "stream",
     "text": [
      "Колонка ALIVE. Тип данных object. Количество пустых значений 3, 0.04%.\n"
     ]
    }
   ],
   "source": [
    "cat_cols = []\n",
    "col=\"ALIVE\"\n",
    "# Количество пустых значений \n",
    "temp_null_count = data[data[col].isnull()].shape[0]\n",
    "dt = str(data[col].dtype)\n",
    "if temp_null_count>0 and (dt=='object'):\n",
    "    cat_cols.append(col)\n",
    "    temp_perc = round((temp_null_count / data.shape[0]) * 100.0, 2)\n",
    "    print('Колонка {}. Тип данных {}. Количество пустых значений {}, {}%.'.format(col, dt, temp_null_count, temp_perc))"
   ]
  },
  {
   "cell_type": "markdown",
   "id": "8554aae6",
   "metadata": {},
   "source": [
    "Количество пропущенных данных мало поэтому мы можем заполнить данные наиболее встречающимися "
   ]
  },
  {
   "cell_type": "code",
   "execution_count": 37,
   "id": "88dc486d",
   "metadata": {},
   "outputs": [
    {
     "data": {
      "text/plain": [
       "array(['Living Characters', 'Deceased Characters', nan], dtype=object)"
      ]
     },
     "execution_count": 37,
     "metadata": {},
     "output_type": "execute_result"
    }
   ],
   "source": [
    "cat_temp_data = data[[\"ALIVE\"]]\n",
    "pd.unique(data[\"ALIVE\"])"
   ]
  },
  {
   "cell_type": "code",
   "execution_count": 38,
   "id": "fd9de3e2",
   "metadata": {},
   "outputs": [
    {
     "data": {
      "text/plain": [
       "array([['Living Characters'],\n",
       "       ['Living Characters'],\n",
       "       ['Living Characters'],\n",
       "       ...,\n",
       "       ['Living Characters'],\n",
       "       ['Living Characters'],\n",
       "       ['Living Characters']], dtype=object)"
      ]
     },
     "execution_count": 38,
     "metadata": {},
     "output_type": "execute_result"
    }
   ],
   "source": [
    "# Импьютация наиболее частыми значениями\n",
    "imp2 = SimpleImputer(missing_values=np.nan, strategy='most_frequent')\n",
    "data_imp2 = imp2.fit_transform(cat_temp_data)\n",
    "data_imp2"
   ]
  },
  {
   "cell_type": "markdown",
   "id": "492afecf",
   "metadata": {},
   "source": [
    "Ответы на вопросы к рк:<br>\n",
    "В данной работе для обработки пропусков данных я воспользовался двумя стратегиями: 1) Заполнение пропусков числовых данных, с помощью средних значений; 2) заполнение данных в признаке, в котором количество пропусков не превышает порогового значения (5%), путем заполнения наиболее часто встречаемым значением. Я считаю для построения моделей следует использовать следующие призанки: SEX, ALIGN, ALIVE.\n"
   ]
  }
 ],
 "metadata": {
  "authors": [
   {
    "name": "Зудин Алексей Максимович"
   }
  ],
  "group": "ИУ5-63Б",
  "kernelspec": {
   "display_name": "Python 3",
   "language": "python",
   "name": "python3"
  },
  "lab_number": 1,
  "language_info": {
   "codemirror_mode": {
    "name": "ipython",
    "version": 3
   },
   "file_extension": ".py",
   "mimetype": "text/x-python",
   "name": "python",
   "nbconvert_exporter": "python",
   "pygments_lexer": "ipython3",
   "version": "3.8.2"
  },
  "pycharm": {
   "stem_cell": {
    "cell_type": "raw",
    "metadata": {
     "collapsed": false
    },
    "source": [
     "{\n",
     "  \"authors\": [\n",
     "    {\n",
     "      \"name\": \"Зудин Алексей Максимович\"\n",
     "    }\n",
     "  ],\n",
     "  \"group\": \"ИУ5-64Б\",\n",
     "  \"title\": \"Рубежный контроль.\"\n",
     "}"
    ]
   }
  },
  "title": "РК №1"
 },
 "nbformat": 4,
 "nbformat_minor": 5
}
